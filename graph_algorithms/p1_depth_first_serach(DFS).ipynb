{
 "cells": [
  {
   "cell_type": "markdown",
   "id": "33d29f6e-77bd-4b20-a62f-c25b17e726d4",
   "metadata": {},
   "source": [
    "# defaultdic\n",
    "Here are examples codes about defaultdic from GeeksForGeeks (https://www.geeksforgeeks.org/defaultdict-in-python/)"
   ]
  },
  {
   "cell_type": "code",
   "execution_count": 3,
   "id": "fa9a1b92-826d-4f06-91f8-c69ec330ca4e",
   "metadata": {},
   "outputs": [
    {
     "name": "stdout",
     "output_type": "stream",
     "text": [
      "defaultdict(<class 'list'>, {'fruits': ['apple'], 'vegetables': ['carrot']})\n"
     ]
    }
   ],
   "source": [
    "from collections import defaultdict\n",
    "\n",
    "# Create a defaultdict with a default value of an empty list\n",
    "my_dict = defaultdict(list)\n",
    "\n",
    "# Add elements to the defaultdict\n",
    "my_dict['fruits'].append('apple')\n",
    "my_dict['vegetables'].append('carrot')\n",
    "\n",
    "# Print the defaultdict\n",
    "print(my_dict)"
   ]
  },
  {
   "cell_type": "code",
   "execution_count": 8,
   "id": "3b877662-ad11-4633-83fa-1cd4b2d0862f",
   "metadata": {},
   "outputs": [
    {
     "data": {
      "text/plain": [
       "defaultdict(list,\n",
       "            {'fruits': ['apple', 'lemon'],\n",
       "             'vegetables': ['carrot', 'romaine lettuce']})"
      ]
     },
     "execution_count": 8,
     "metadata": {},
     "output_type": "execute_result"
    }
   ],
   "source": [
    "my_dict['fruits'].append('lemon')\n",
    "my_dict['vegetables'].append('romaine lettuce')\n",
    "my_dict"
   ]
  },
  {
   "cell_type": "code",
   "execution_count": 4,
   "id": "2b592802-05f5-4739-8019-7248855cae13",
   "metadata": {},
   "outputs": [
    {
     "name": "stdout",
     "output_type": "stream",
     "text": [
      "1\n",
      "2\n",
      "Not Present\n"
     ]
    }
   ],
   "source": [
    "from collections import defaultdict\n",
    "\n",
    "    \n",
    "# Defining the dict and passing \n",
    "# lambda as default_factory argument\n",
    "d = defaultdict(lambda: \"Not Present\")\n",
    "d[\"a\"] = 1\n",
    "d[\"b\"] = 2\n",
    "\n",
    "print(d[\"a\"])\n",
    "print(d[\"b\"])\n",
    "print(d[\"c\"])"
   ]
  },
  {
   "cell_type": "markdown",
   "id": "bd6b9bbe-0a9a-4106-956c-1246244cd427",
   "metadata": {},
   "source": [
    "# Common Use Cases for defaultdict\n",
    "## (1) Using List as Default Factory\n",
    "When the list class is passed as the default_factory argument, then a defaultdict is created with the values that are list."
   ]
  },
  {
   "cell_type": "code",
   "execution_count": 5,
   "id": "85078376-7860-4d80-941c-dfe315894fb5",
   "metadata": {},
   "outputs": [
    {
     "name": "stdout",
     "output_type": "stream",
     "text": [
      "Dictionary with values as list:\n",
      "defaultdict(<class 'list'>, {0: [0], 1: [1], 2: [2], 3: [3], 4: [4]})\n"
     ]
    }
   ],
   "source": [
    "from collections import defaultdict\n",
    "\n",
    "# Defining a dict\n",
    "d = defaultdict(list)\n",
    "\n",
    "for i in range(5):\n",
    "    d[i].append(i)\n",
    "    \n",
    "print(\"Dictionary with values as list:\")\n",
    "print(d)"
   ]
  },
  {
   "cell_type": "markdown",
   "id": "a8a866a6-f4ee-4e9d-9ceb-82e4f5c41862",
   "metadata": {},
   "source": [
    "## (2) Using int Default Factory\n",
    "When the int class is passed as the default_factory argument, then a defaultdict is created with default value as zero."
   ]
  },
  {
   "cell_type": "code",
   "execution_count": 6,
   "id": "c787ae0b-0b7b-471f-803c-f7de8e3cbf05",
   "metadata": {},
   "outputs": [
    {
     "name": "stdout",
     "output_type": "stream",
     "text": [
      "defaultdict(<class 'int'>, {1: 2, 2: 3, 3: 1, 4: 2})\n"
     ]
    }
   ],
   "source": [
    "from collections import defaultdict\n",
    " \n",
    "# Defining the dict\n",
    "d = defaultdict(int)\n",
    " \n",
    "L = [1, 2, 3, 4, 2, 4, 1, 2]\n",
    " \n",
    "# Iterate through the list\n",
    "# for keeping the count\n",
    "for i in L:\n",
    "     \n",
    "    # The default value is 0\n",
    "    # so there is no need to \n",
    "    # enter the key first\n",
    "    d[i] += 1\n",
    "     \n",
    "print(d)"
   ]
  },
  {
   "cell_type": "markdown",
   "id": "b710bc8b-ea6d-4022-8282-336e4a10bda2",
   "metadata": {},
   "source": [
    "## (3) Using str Default Factory\n",
    "When the str class is passed as the default_factory argument."
   ]
  },
  {
   "cell_type": "code",
   "execution_count": 7,
   "id": "cd4548b7-90eb-4ecb-86e0-ee1bd6184118",
   "metadata": {},
   "outputs": [
    {
     "name": "stdout",
     "output_type": "stream",
     "text": [
      "defaultdict(<class 'str'>, {'greeting': 'Hello'})\n"
     ]
    }
   ],
   "source": [
    "from collections import defaultdict\n",
    "\n",
    "# Using str as the factory function\n",
    "str_defaultdict = defaultdict(str)\n",
    "str_defaultdict['greeting'] = 'Hello'\n",
    "print(str_defaultdict)"
   ]
  },
  {
   "cell_type": "markdown",
   "id": "e3c3f6cf-9da6-4d94-a6e7-1f677fc52498",
   "metadata": {},
   "source": [
    "# Write down a function 'solution()' which traverses all nodes of a graph.\n",
    "To be specific, if a graph in the list form is given, the function shall return a list of node lists.\n",
    "For example, when the following graph is given, the expected order for traveling is A->B->D->C->F"
   ]
  },
  {
   "cell_type": "code",
   "execution_count": 43,
   "id": "1d6402cc-76ad-4b6f-bcc5-2192d7025c26",
   "metadata": {},
   "outputs": [
    {
     "data": {
      "text/plain": [
       "{'A': Text(0, 0, 'A'),\n",
       " 'B': Text(-10, -5, 'B'),\n",
       " 'C': Text(10, -5, 'C'),\n",
       " 'D': Text(-15, -10, 'D'),\n",
       " 'E': Text(-5, -10, 'E'),\n",
       " 'F': Text(5, -10, 'F')}"
      ]
     },
     "execution_count": 43,
     "metadata": {},
     "output_type": "execute_result"
    },
    {
     "data": {
      "image/png": "[encoded data removed]",
      "text/plain": [
       "<Figure size 640x480 with 1 Axes>"
      ]
     },
     "metadata": {},
     "output_type": "display_data"
    }
   ],
   "source": [
    "import networkx as nx\n",
    "G = nx.Graph()\n",
    "G.add_nodes_from(['A','B','C','D','E','F'])\n",
    "G.add_edges_from([('A','B'),('A','C'),('B','D'),('B','E'),('C','F')])\n",
    "pos = {'A':(0,0),'B':(-10,-5),'C':(10,-5),'D':(-15,-10),'E':(-5,-10),'F':(5,-10)}\n",
    "nx.draw_networkx_nodes(G, pos, nodelist=['A'], node_color='salmon')\n",
    "nx.draw_networkx_nodes(G, pos, nodelist=[i for i in G.nodes() if i!='A'], node_color='lavender')\n",
    "nx.draw_networkx_edges(G, pos)\n",
    "nx.draw_networkx_labels(G, pos, labels={n: n for n in G})"
   ]
  },
  {
   "cell_type": "code",
   "execution_count": 46,
   "id": "aa724fee-82f9-437e-940f-be1353cad4e5",
   "metadata": {},
   "outputs": [
    {
     "ename": "TypeError",
     "evalue": "first argument must be callable or None",
     "output_type": "error",
     "traceback": [
      "\u001b[1;31m---------------------------------------------------------------------------\u001b[0m",
      "\u001b[1;31mTypeError\u001b[0m                                 Traceback (most recent call last)",
      "Cell \u001b[1;32mIn[46], line 1\u001b[0m\n\u001b[1;32m----> 1\u001b[0m graph \u001b[38;5;241m=\u001b[39m \u001b[43mdefaultdict\u001b[49m\u001b[43m(\u001b[49m\u001b[43m[\u001b[49m\u001b[43m[\u001b[49m\u001b[38;5;124;43m'\u001b[39;49m\u001b[38;5;124;43mA\u001b[39;49m\u001b[38;5;124;43m'\u001b[39;49m\u001b[43m,\u001b[49m\u001b[38;5;124;43m'\u001b[39;49m\u001b[38;5;124;43mB\u001b[39;49m\u001b[38;5;124;43m'\u001b[39;49m\u001b[43m]\u001b[49m\u001b[43m,\u001b[49m\u001b[43m[\u001b[49m\u001b[38;5;124;43m'\u001b[39;49m\u001b[38;5;124;43mA\u001b[39;49m\u001b[38;5;124;43m'\u001b[39;49m\u001b[43m,\u001b[49m\u001b[38;5;124;43m'\u001b[39;49m\u001b[38;5;124;43mC\u001b[39;49m\u001b[38;5;124;43m'\u001b[39;49m\u001b[43m]\u001b[49m\u001b[43m,\u001b[49m\u001b[43m[\u001b[49m\u001b[38;5;124;43m'\u001b[39;49m\u001b[38;5;124;43mB\u001b[39;49m\u001b[38;5;124;43m'\u001b[39;49m\u001b[43m,\u001b[49m\u001b[38;5;124;43m'\u001b[39;49m\u001b[38;5;124;43mD\u001b[39;49m\u001b[38;5;124;43m'\u001b[39;49m\u001b[43m]\u001b[49m\u001b[43m,\u001b[49m\u001b[43m[\u001b[49m\u001b[38;5;124;43m'\u001b[39;49m\u001b[38;5;124;43mB\u001b[39;49m\u001b[38;5;124;43m'\u001b[39;49m\u001b[43m,\u001b[49m\u001b[38;5;124;43m'\u001b[39;49m\u001b[38;5;124;43mE\u001b[39;49m\u001b[38;5;124;43m'\u001b[39;49m\u001b[43m]\u001b[49m\u001b[43m,\u001b[49m\u001b[43m[\u001b[49m\u001b[38;5;124;43m'\u001b[39;49m\u001b[38;5;124;43mC\u001b[39;49m\u001b[38;5;124;43m'\u001b[39;49m\u001b[43m,\u001b[49m\u001b[38;5;124;43m'\u001b[39;49m\u001b[38;5;124;43mF\u001b[39;49m\u001b[38;5;124;43m'\u001b[39;49m\u001b[43m]\u001b[49m\u001b[43m]\u001b[49m\u001b[43m)\u001b[49m\n\u001b[0;32m      2\u001b[0m my_dict \u001b[38;5;241m=\u001b[39m defaultdict(\u001b[38;5;28mlist\u001b[39m)\n\u001b[0;32m      3\u001b[0m \u001b[38;5;28;01mfor\u001b[39;00m i, j \u001b[38;5;129;01min\u001b[39;00m graph:\n",
      "\u001b[1;31mTypeError\u001b[0m: first argument must be callable or None"
     ]
    }
   ],
   "source": [
    "graph = defaultdict([['A','B'],['A','C'],['B','D'],['B','E'],['C','F']])\n",
    "my_dict = defaultdict(list)\n",
    "for i, j in graph:\n",
    "    my_dict[i].append(j)\n",
    "my_dict"
   ]
  },
  {
   "cell_type": "code",
   "execution_count": null,
   "id": "32f23ba2-a647-4ed6-a1c5-c727ea72c190",
   "metadata": {},
   "outputs": [],
   "source": []
  }
 ],
 "metadata": {
  "kernelspec": {
   "display_name": "Python 3 (ipykernel)",
   "language": "python",
   "name": "python3"
  },
  "language_info": {
   "codemirror_mode": {
    "name": "ipython",
    "version": 3
   },
   "file_extension": ".py",
   "mimetype": "text/x-python",
   "name": "python",
   "nbconvert_exporter": "python",
   "pygments_lexer": "ipython3",
   "version": "3.10.0"
  }
 },
 "nbformat": 4,
 "nbformat_minor": 5
}
